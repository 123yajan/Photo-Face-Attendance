{
  "nbformat": 4,
  "nbformat_minor": 0,
  "metadata": {
    "colab": {
      "provenance": [],
      "gpuType": "T4"
    },
    "kernelspec": {
      "name": "python3",
      "display_name": "Python 3"
    },
    "language_info": {
      "name": "python"
    },
    "accelerator": "GPU"
  },
  "cells": [
    {
      "cell_type": "code",
      "execution_count": null,
      "metadata": {
        "colab": {
          "base_uri": "https://localhost:8080/"
        },
        "id": "M-GVy9j9Z9OA",
        "outputId": "57561fba-1f9f-4415-9bbc-75e593a12429"
      },
      "outputs": [
        {
          "output_type": "stream",
          "name": "stdout",
          "text": [
            "Collecting face_recognition\n",
            "  Downloading face_recognition-1.3.0-py2.py3-none-any.whl (15 kB)\n",
            "Requirement already satisfied: opencv-python in /usr/local/lib/python3.10/dist-packages (4.8.0.76)\n",
            "Requirement already satisfied: numpy in /usr/local/lib/python3.10/dist-packages (1.25.2)\n",
            "Collecting face-recognition-models>=0.3.0 (from face_recognition)\n",
            "  Downloading face_recognition_models-0.3.0.tar.gz (100.1 MB)\n",
            "\u001b[2K     \u001b[90m━━━━━━━━━━━━━━━━━━━━━━━━━━━━━━━━━━━━━━━━\u001b[0m \u001b[32m100.1/100.1 MB\u001b[0m \u001b[31m2.1 MB/s\u001b[0m eta \u001b[36m0:00:00\u001b[0m\n",
            "\u001b[?25h  Preparing metadata (setup.py) ... \u001b[?25l\u001b[?25hdone\n",
            "Requirement already satisfied: Click>=6.0 in /usr/local/lib/python3.10/dist-packages (from face_recognition) (8.1.7)\n",
            "Requirement already satisfied: dlib>=19.7 in /usr/local/lib/python3.10/dist-packages (from face_recognition) (19.24.4)\n",
            "Requirement already satisfied: Pillow in /usr/local/lib/python3.10/dist-packages (from face_recognition) (9.4.0)\n",
            "Building wheels for collected packages: face-recognition-models\n",
            "  Building wheel for face-recognition-models (setup.py) ... \u001b[?25l\u001b[?25hdone\n",
            "  Created wheel for face-recognition-models: filename=face_recognition_models-0.3.0-py2.py3-none-any.whl size=100566170 sha256=432cc5700427d84b27bc6900719e1179e1832bc2a0ac045e4f1d32b4949d5f13\n",
            "  Stored in directory: /root/.cache/pip/wheels/7a/eb/cf/e9eced74122b679557f597bb7c8e4c739cfcac526db1fd523d\n",
            "Successfully built face-recognition-models\n",
            "Installing collected packages: face-recognition-models, face_recognition\n",
            "Successfully installed face-recognition-models-0.3.0 face_recognition-1.3.0\n"
          ]
        }
      ],
      "source": [
        "pip install face_recognition opencv-python numpy"
      ]
    },
    {
      "cell_type": "code",
      "source": [
        "import cv2\n",
        "from google.colab.patches import cv2_imshow\n",
        "img=cv2.imread(\"/content/drive/MyDrive/Candidates2/s9/10.pgm\",1)\n",
        "cv2_imshow(img)\n",
        "cv2.waitKey(0)\n",
        "cv2.destroyAllWindows()\n",
        "\n"
      ],
      "metadata": {
        "colab": {
          "base_uri": "https://localhost:8080/",
          "height": 129
        },
        "id": "WF7wLlQG_toa",
        "outputId": "5abe5fcc-ad4a-4fab-9b81-15eac1d130ec"
      },
      "execution_count": null,
      "outputs": [
        {
          "output_type": "display_data",
          "data": {
            "text/plain": [
              "<PIL.Image.Image image mode=RGB size=92x112>"
            ],
            "image/png": "[encoded data removed]"
          },
          "metadata": {}
        }
      ]
    },
    {
      "cell_type": "code",
      "source": [
        "from google.colab import drive\n",
        "drive.mount('/content/drive')"
      ],
      "metadata": {
        "id": "aO3R4KzqC9Rq"
      },
      "execution_count": null,
      "outputs": []
    },
    {
      "cell_type": "code",
      "source": [
        "import torch\n",
        "\n",
        "print(torch.cuda.is_available())\n"
      ],
      "metadata": {
        "colab": {
          "base_uri": "https://localhost:8080/"
        },
        "id": "RDJavw2ub8VO",
        "outputId": "71bb920e-8c11-43cb-a4dd-c1c1e58c3618"
      },
      "execution_count": null,
      "outputs": [
        {
          "output_type": "stream",
          "name": "stdout",
          "text": [
            "True\n"
          ]
        }
      ]
    },
    {
      "cell_type": "code",
      "source": [
        "import face_recognition\n",
        "import cv2\n",
        "import os\n",
        "import numpy as np\n",
        "\n",
        "def load_images_from_folder(folder):\n",
        "    images = []\n",
        "    for root, dirs, files in os.walk(folder):\n",
        "        for filename in files:\n",
        "            if filename.lower().endswith('.pgm'):\n",
        "                img_path = os.path.join(root, filename)\n",
        "                img = cv2.imread(img_path, cv2.IMREAD_GRAYSCALE)\n",
        "                if img is not None:\n",
        "                    img_rgb = cv2.cvtColor(img, cv2.COLOR_GRAY2RGB)\n",
        "                    relative_path = os.path.relpath(img_path, folder)\n",
        "                    images.append((relative_path, img_rgb))\n",
        "    return images\n",
        "\n",
        "def encode_faces(images):\n",
        "    encoded_faces = []\n",
        "    for filename, image in images:\n",
        "        encodings = face_recognition.face_encodings(image)\n",
        "        if encodings:\n",
        "            encoded_faces.append((filename, encodings[0]))\n",
        "    return encoded_faces\n",
        "\n",
        "def find_best_match(reference_image, candidate_images):\n",
        "    reference_encoding = face_recognition.face_encodings(reference_image)[0]\n",
        "    face_distances = face_recognition.face_distance(\n",
        "        [encoding for _, encoding in candidate_images], reference_encoding)\n",
        "    best_match_index = np.argmin(face_distances)\n",
        "    return candidate_images[best_match_index][0], face_distances[best_match_index]\n",
        "\n",
        "def main():\n",
        "    reference_image_path = \"/content/drive/MyDrive/1.pgm\"\n",
        "    candidates_folder_path = \"/content/drive/MyDrive/Candidates2\"\n",
        "\n",
        "    reference_image = cv2.imread(reference_image_path, cv2.IMREAD_GRAYSCALE)\n",
        "    if reference_image is None:\n",
        "        print(\"Failed to load the reference image.\")\n",
        "        return\n",
        "\n",
        "    reference_image_rgb = cv2.cvtColor(reference_image, cv2.COLOR_GRAY2RGB)\n",
        "\n",
        "    candidate_images = load_images_from_folder(candidates_folder_path)\n",
        "    if not candidate_images:\n",
        "        print(\"No candidate images found.\")\n",
        "        return\n",
        "\n",
        "    encoded_faces = encode_faces(candidate_images)\n",
        "    if not encoded_faces:\n",
        "        print(\"No faces encoded from candidate images.\")\n",
        "        return\n",
        "\n",
        "    best_match_filename, best_match_distance = find_best_match(reference_image_rgb, encoded_faces)\n",
        "\n",
        "    print(f\"Best match: {best_match_filename} with distance: {best_match_distance}\")\n",
        "\n",
        "if __name__ == \"__main__\":\n",
        "    main()\n"
      ],
      "metadata": {
        "colab": {
          "base_uri": "https://localhost:8080/"
        },
        "id": "XtNaicjlH_07",
        "outputId": "0cd7da95-595b-4519-9ffd-5d57da0d24db"
      },
      "execution_count": null,
      "outputs": [
        {
          "output_type": "stream",
          "name": "stdout",
          "text": [
            "Best match: s1/1.pgm with distance: 0.0\n"
          ]
        }
      ]
    }
  ]
}